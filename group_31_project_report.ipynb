{
 "cells": [
  {
   "cell_type": "code",
   "execution_count": null,
   "id": "795693b6-0cdb-492c-9436-94bdfe6746ed",
   "metadata": {
    "tags": []
   },
   "outputs": [
    {
     "name": "stderr",
     "output_type": "stream",
     "text": [
      "── \u001b[1mAttaching packages\u001b[22m ─────────────────────────────────────── tidyverse 1.3.2 ──\n",
      "\u001b[32m✔\u001b[39m \u001b[34mggplot2\u001b[39m 3.4.2     \u001b[32m✔\u001b[39m \u001b[34mpurrr  \u001b[39m 1.0.1\n",
      "\u001b[32m✔\u001b[39m \u001b[34mtibble \u001b[39m 3.2.1     \u001b[32m✔\u001b[39m \u001b[34mdplyr  \u001b[39m 1.1.1\n",
      "\u001b[32m✔\u001b[39m \u001b[34mtidyr  \u001b[39m 1.3.0     \u001b[32m✔\u001b[39m \u001b[34mstringr\u001b[39m 1.5.0\n",
      "\u001b[32m✔\u001b[39m \u001b[34mreadr  \u001b[39m 2.1.3     \u001b[32m✔\u001b[39m \u001b[34mforcats\u001b[39m 0.5.2\n",
      "── \u001b[1mConflicts\u001b[22m ────────────────────────────────────────── tidyverse_conflicts() ──\n",
      "\u001b[31m✖\u001b[39m \u001b[34mdplyr\u001b[39m::\u001b[32mfilter()\u001b[39m masks \u001b[34mstats\u001b[39m::filter()\n",
      "\u001b[31m✖\u001b[39m \u001b[34mdplyr\u001b[39m::\u001b[32mlag()\u001b[39m    masks \u001b[34mstats\u001b[39m::lag()\n"
     ]
    }
   ],
   "source": [
    "#importing libraries\n",
    "library(tidyverse)\n",
    "library(tidymodels)\n",
    "library(repr)\n",
    "library(RColorBrewer)\n",
    "library(dplyr) \n",
    "install.packages(\"kknn\")"
   ]
  },
  {
   "cell_type": "code",
   "execution_count": null,
   "id": "fc0ac681-c3a6-4f27-9b0e-50685e7a97f6",
   "metadata": {
    "tags": []
   },
   "outputs": [],
   "source": [
    "diabetes_data <- read_csv(\"https://raw.githubusercontent.com/altonho67/dsci-100-2023w1-group-31/main/data/diabetes_2.csv\")\n",
    "diabetes_data\n",
    "set.seed(2020)\n",
    "diabetes_data <- diabetes_data %>%\n",
    "                 mutate(Outcome = as.factor(Outcome))|>\n",
    "                 mutate(Outcome = fct_recode(Outcome, \"Diabetes\" = \"1\", \"None\" = \"0\")) |>\n",
    "                 mutate_at(c('SkinThickness','Insulin','BloodPressure','Glucose'), ~na_if(., 0))\n",
    "                 \n",
    "diabetes_data\n",
    "\n",
    "diabetes_split <- initial_split(diabetes_data, prop = 3/4, strata = Outcome)\n",
    "diabetes_training <- training(diabetes_split)\n",
    "diabetes_testing <- testing(diabetes_split)\n",
    "\n",
    "\n",
    "#diabetes_vfold <- vfold_cv(diabetes_training, v = 10, strata = Outcome)\n",
    "#diabetes_vfold\n",
    "\n",
    "lm_spec<-linear_reg() |>\n",
    "  set_engine(\"lm\") |>\n",
    "  set_mode(\"regression\")\n",
    "\n",
    "diabetes_recipe <- recipe(Glucose ~ BMI +Age, \n",
    "                        data = diabetes_training) \n",
    "  \n",
    "\n",
    "# use the BMI and Age to predict the glucose\n",
    "diabetes_fit <- workflow() |>\n",
    "  add_recipe(diabetes_recipe) |>\n",
    "  add_model(lm_spec) |>\n",
    "  fit(data = diabetes_training)\n",
    "\n",
    "diabetes_fit\n",
    "#this one shows the linear relationship between the BMI and Age with the Glucose, this may not be useful, and can be deleted if you want\n",
    "\n",
    "diabetes_split <- initial_split(diabetes_data, prop = 3/4, strata = Outcome)\n",
    "diabetes_training <- training(diabetes_split)\n",
    "diabetes_testing <- testing(diabetes_split)\n",
    "\n",
    "predict_outcome_spec<-nearest_neighbor(weight_func = \"rectangular\", neighbors = 3) |>\n",
    "  set_engine(\"kknn\") |>\n",
    "  set_mode(\"classification\")\n",
    "\n",
    "predict_recipe <- recipe(Outcome~ Glucose + BMI +Age,data=diabetes_training) |>\n",
    "  step_scale(all_predictors()) |>\n",
    "  step_center(all_predictors())\n",
    "\n",
    "knn_fit <- workflow() |>\n",
    "  add_recipe(predict_recipe) |>\n",
    "  add_model(predict_outcome_spec) |>\n",
    "  fit(data = diabetes_training )\n",
    "\n",
    "diabetes_outcome_predictions <- predict(knn_fit, diabetes_testing)|>\n",
    "    bind_cols(diabetes_testing)\n"
   ]
  },
  {
   "cell_type": "markdown",
   "id": "9e0c8576-215f-4488-9bf4-c8ca075071bf",
   "metadata": {
    "tags": []
   },
   "source": [
    "Diabetes_outcome_predictions\n",
    "#this is the knn neighbor prediction of DIabetes outcome using BMI, Glucose and Age, as these three show a positive relationship with diabetes outcome in the proposal, so I am using them to approximate the outcome. More can be added, such as choosing the best k for knn spec and use vfold.\n"
   ]
  }
 ],
 "metadata": {
  "kernelspec": {
   "display_name": "R",
   "language": "R",
   "name": "ir"
  },
  "language_info": {
   "codemirror_mode": "r",
   "file_extension": ".r",
   "mimetype": "text/x-r-source",
   "name": "R",
   "pygments_lexer": "r",
   "version": "4.2.2"
  }
 },
 "nbformat": 4,
 "nbformat_minor": 5
}
